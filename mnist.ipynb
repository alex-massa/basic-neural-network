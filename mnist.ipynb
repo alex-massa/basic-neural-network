{
 "cells": [
  {
   "cell_type": "code",
   "execution_count": 1,
   "id": "894d0bee",
   "metadata": {},
   "outputs": [],
   "source": [
    "%run ./basic-neural-network.ipynb\n",
    "%matplotlib inline"
   ]
  },
  {
   "cell_type": "code",
   "execution_count": 2,
   "id": "84badf36",
   "metadata": {},
   "outputs": [],
   "source": [
    "import numpy as np\n",
    "import pandas as pd\n",
    "import matplotlib.pyplot as plt\n",
    "from tqdm import tqdm\n",
    "from sklearn.utils import shuffle\n",
    "from sklearn.model_selection import train_test_split\n",
    "from keras.datasets import mnist"
   ]
  },
  {
   "cell_type": "code",
   "execution_count": 3,
   "id": "7a50bc5d",
   "metadata": {},
   "outputs": [],
   "source": [
    "# set to None to use the entire dataset\n",
    "N_SAMPLES = 10000\n",
    "# set to None for irreproducible results\n",
    "RANDOM_SEED = 1"
   ]
  },
  {
   "cell_type": "code",
   "execution_count": 4,
   "id": "ffc3c0ff",
   "metadata": {},
   "outputs": [],
   "source": [
    "(X_train, y_train), (X_test, y_test) = mnist.load_data()\n",
    "X, y = np.concatenate((X_train, X_test), axis=0), np.concatenate((y_train, y_test), axis=0)\n",
    "\n",
    "# shuffle the dataset, then truncate it\n",
    "X, y = shuffle(X, y, random_state=RANDOM_SEED)\n",
    "X, y = X[:N_SAMPLES], y[:N_SAMPLES]\n",
    "\n",
    "# normalize the images values\n",
    "X = X / 255\n",
    "# turn every non white pixels to full black pixels\n",
    "# NOT RECOMMENDED, may decrease generalization\n",
    "#X[X.nonzero()] = 1\n",
    "# flatten each 28 * 28 square image into a 784 elements sequence\n",
    "X = X.reshape(len(X), 28 * 28)\n",
    "# transform each label in its respective one hot representation\n",
    "# eg: 0 -> [1 0 0 0 0 0 0 0 0 0], 4 -> [0 0 0 0 1 0 0 0 0 0]\n",
    "y = np.array([np.eye(10)[label] for label in y])\n",
    "\n",
    "train_samples, test_samples, train_labels, test_labels = train_test_split(X, y, random_state=RANDOM_SEED)"
   ]
  },
  {
   "cell_type": "code",
   "execution_count": 5,
   "id": "1768e066",
   "metadata": {},
   "outputs": [
    {
     "name": "stderr",
     "output_type": "stream",
     "text": [
      "100%|████████████████████████████████████████████████████████████████████████████████| 101/101 [00:27<00:00,  3.64it/s]\n"
     ]
    },
    {
     "data": {
      "text/html": [
       "<style type=\"text/css\">\n",
       "#T_c16ba_row0_col0, #T_c16ba_row0_col1, #T_c16ba_row0_col2, #T_c16ba_row0_col3 {\n",
       "  background-color: lightcoral;\n",
       "}\n",
       "#T_c16ba_row8_col2, #T_c16ba_row9_col3, #T_c16ba_row10_col0, #T_c16ba_row10_col1 {\n",
       "  background-color: lightgreen;\n",
       "}\n",
       "</style>\n",
       "<table id=\"T_c16ba_\">\n",
       "  <thead>\n",
       "    <tr>\n",
       "      <th class=\"blank level0\" >&nbsp;</th>\n",
       "      <th class=\"col_heading level0 col0\" >Train Loss (MSE)</th>\n",
       "      <th class=\"col_heading level0 col1\" >Train Accuracy</th>\n",
       "      <th class=\"col_heading level0 col2\" >Test Loss (MSE)</th>\n",
       "      <th class=\"col_heading level0 col3\" >Test Accuracy</th>\n",
       "    </tr>\n",
       "  </thead>\n",
       "  <tbody>\n",
       "    <tr>\n",
       "      <th id=\"T_c16ba_level0_row0\" class=\"row_heading level0 row0\" >1</th>\n",
       "      <td id=\"T_c16ba_row0_col0\" class=\"data row0 col0\" >0.367967</td>\n",
       "      <td id=\"T_c16ba_row0_col1\" class=\"data row0 col1\" >0.807067</td>\n",
       "      <td id=\"T_c16ba_row0_col2\" class=\"data row0 col2\" >0.377593</td>\n",
       "      <td id=\"T_c16ba_row0_col3\" class=\"data row0 col3\" >0.795200</td>\n",
       "    </tr>\n",
       "    <tr>\n",
       "      <th id=\"T_c16ba_level0_row1\" class=\"row_heading level0 row1\" >11</th>\n",
       "      <td id=\"T_c16ba_row1_col0\" class=\"data row1 col0\" >0.114152</td>\n",
       "      <td id=\"T_c16ba_row1_col1\" class=\"data row1 col1\" >0.926400</td>\n",
       "      <td id=\"T_c16ba_row1_col2\" class=\"data row1 col2\" >0.149091</td>\n",
       "      <td id=\"T_c16ba_row1_col3\" class=\"data row1 col3\" >0.901200</td>\n",
       "    </tr>\n",
       "    <tr>\n",
       "      <th id=\"T_c16ba_level0_row2\" class=\"row_heading level0 row2\" >21</th>\n",
       "      <td id=\"T_c16ba_row2_col0\" class=\"data row2 col0\" >0.078946</td>\n",
       "      <td id=\"T_c16ba_row2_col1\" class=\"data row2 col1\" >0.950667</td>\n",
       "      <td id=\"T_c16ba_row2_col2\" class=\"data row2 col2\" >0.124836</td>\n",
       "      <td id=\"T_c16ba_row2_col3\" class=\"data row2 col3\" >0.914000</td>\n",
       "    </tr>\n",
       "    <tr>\n",
       "      <th id=\"T_c16ba_level0_row3\" class=\"row_heading level0 row3\" >31</th>\n",
       "      <td id=\"T_c16ba_row3_col0\" class=\"data row3 col0\" >0.057700</td>\n",
       "      <td id=\"T_c16ba_row3_col1\" class=\"data row3 col1\" >0.964533</td>\n",
       "      <td id=\"T_c16ba_row3_col2\" class=\"data row3 col2\" >0.115146</td>\n",
       "      <td id=\"T_c16ba_row3_col3\" class=\"data row3 col3\" >0.922000</td>\n",
       "    </tr>\n",
       "    <tr>\n",
       "      <th id=\"T_c16ba_level0_row4\" class=\"row_heading level0 row4\" >41</th>\n",
       "      <td id=\"T_c16ba_row4_col0\" class=\"data row4 col0\" >0.043452</td>\n",
       "      <td id=\"T_c16ba_row4_col1\" class=\"data row4 col1\" >0.974400</td>\n",
       "      <td id=\"T_c16ba_row4_col2\" class=\"data row4 col2\" >0.109213</td>\n",
       "      <td id=\"T_c16ba_row4_col3\" class=\"data row4 col3\" >0.926000</td>\n",
       "    </tr>\n",
       "    <tr>\n",
       "      <th id=\"T_c16ba_level0_row5\" class=\"row_heading level0 row5\" >51</th>\n",
       "      <td id=\"T_c16ba_row5_col0\" class=\"data row5 col0\" >0.033926</td>\n",
       "      <td id=\"T_c16ba_row5_col1\" class=\"data row5 col1\" >0.980000</td>\n",
       "      <td id=\"T_c16ba_row5_col2\" class=\"data row5 col2\" >0.103977</td>\n",
       "      <td id=\"T_c16ba_row5_col3\" class=\"data row5 col3\" >0.929200</td>\n",
       "    </tr>\n",
       "    <tr>\n",
       "      <th id=\"T_c16ba_level0_row6\" class=\"row_heading level0 row6\" >61</th>\n",
       "      <td id=\"T_c16ba_row6_col0\" class=\"data row6 col0\" >0.026973</td>\n",
       "      <td id=\"T_c16ba_row6_col1\" class=\"data row6 col1\" >0.984800</td>\n",
       "      <td id=\"T_c16ba_row6_col2\" class=\"data row6 col2\" >0.101069</td>\n",
       "      <td id=\"T_c16ba_row6_col3\" class=\"data row6 col3\" >0.930000</td>\n",
       "    </tr>\n",
       "    <tr>\n",
       "      <th id=\"T_c16ba_level0_row7\" class=\"row_heading level0 row7\" >71</th>\n",
       "      <td id=\"T_c16ba_row7_col0\" class=\"data row7 col0\" >0.021480</td>\n",
       "      <td id=\"T_c16ba_row7_col1\" class=\"data row7 col1\" >0.987867</td>\n",
       "      <td id=\"T_c16ba_row7_col2\" class=\"data row7 col2\" >0.099026</td>\n",
       "      <td id=\"T_c16ba_row7_col3\" class=\"data row7 col3\" >0.934000</td>\n",
       "    </tr>\n",
       "    <tr>\n",
       "      <th id=\"T_c16ba_level0_row8\" class=\"row_heading level0 row8\" >81</th>\n",
       "      <td id=\"T_c16ba_row8_col0\" class=\"data row8 col0\" >0.018135</td>\n",
       "      <td id=\"T_c16ba_row8_col1\" class=\"data row8 col1\" >0.989600</td>\n",
       "      <td id=\"T_c16ba_row8_col2\" class=\"data row8 col2\" >0.097275</td>\n",
       "      <td id=\"T_c16ba_row8_col3\" class=\"data row8 col3\" >0.932400</td>\n",
       "    </tr>\n",
       "    <tr>\n",
       "      <th id=\"T_c16ba_level0_row9\" class=\"row_heading level0 row9\" >91</th>\n",
       "      <td id=\"T_c16ba_row9_col0\" class=\"data row9 col0\" >0.014406</td>\n",
       "      <td id=\"T_c16ba_row9_col1\" class=\"data row9 col1\" >0.992267</td>\n",
       "      <td id=\"T_c16ba_row9_col2\" class=\"data row9 col2\" >0.099020</td>\n",
       "      <td id=\"T_c16ba_row9_col3\" class=\"data row9 col3\" >0.935600</td>\n",
       "    </tr>\n",
       "    <tr>\n",
       "      <th id=\"T_c16ba_level0_row10\" class=\"row_heading level0 row10\" >101</th>\n",
       "      <td id=\"T_c16ba_row10_col0\" class=\"data row10 col0\" >0.011956</td>\n",
       "      <td id=\"T_c16ba_row10_col1\" class=\"data row10 col1\" >0.994267</td>\n",
       "      <td id=\"T_c16ba_row10_col2\" class=\"data row10 col2\" >0.097437</td>\n",
       "      <td id=\"T_c16ba_row10_col3\" class=\"data row10 col3\" >0.935200</td>\n",
       "    </tr>\n",
       "  </tbody>\n",
       "</table>\n"
      ],
      "text/plain": [
       "<pandas.io.formats.style.Styler at 0x18c52ef0df0>"
      ]
     },
     "execution_count": 5,
     "metadata": {},
     "output_type": "execute_result"
    }
   ],
   "source": [
    "hidden_layer_size = 128\n",
    "iterations = 100 + 1\n",
    "learning_rate = 1e-3\n",
    "batch_size = 512  # set to 1 for stochastic gradient descent\n",
    "hid_activation = Activation.RELU\n",
    "out_activation = Activation.SOFTMAX\n",
    "dropout = 0.5\n",
    "input_as_boolean = True\n",
    "skip_remaining = True\n",
    "random_seed = RANDOM_SEED\n",
    "\n",
    "model = BasicNeuralNetwork(hidden_layer_size, learning_rate=learning_rate, epochs=iterations,\n",
    "                           batch_size=batch_size, skip_remaining=skip_remaining,\n",
    "                           hid_activation=hid_activation, out_activation=out_activation, \n",
    "                           dropout=dropout, input_as_boolean=input_as_boolean,\n",
    "                           is_generator=True, random_seed=random_seed)\n",
    "\n",
    "results = []\n",
    "for _ in tqdm(model.fit(train_samples, train_labels), total=iterations):\n",
    "    train_loss, train_accuracy = model.evaluate(train_samples, train_labels)\n",
    "    test_loss, test_accuracy = model.evaluate(test_samples, test_labels)\n",
    "    results.append({'Train Loss (MSE)': train_loss, 'Train Accuracy': train_accuracy,\n",
    "                    'Test Loss (MSE)': test_loss, 'Test Accuracy': test_accuracy})\n",
    "\n",
    "df = pd.DataFrame(results)\n",
    "df.index += 1\n",
    "df[['Train Loss (MSE)', 'Train Accuracy', 'Test Loss (MSE)', 'Test Accuracy']][::10].style \\\n",
    "        .highlight_min(subset=['Train Accuracy', 'Test Accuracy'], color=\"lightcoral\") \\\n",
    "        .highlight_max(subset=['Train Accuracy', 'Test Accuracy'], color=\"lightgreen\") \\\n",
    "        .highlight_min(subset=['Train Loss (MSE)', 'Test Loss (MSE)'], color=\"lightgreen\") \\\n",
    "        .highlight_max(subset=['Train Loss (MSE)', 'Test Loss (MSE)'], color=\"lightcoral\")"
   ]
  },
  {
   "cell_type": "code",
   "execution_count": 6,
   "id": "8a382a1a",
   "metadata": {},
   "outputs": [
    {
     "name": "stdout",
     "output_type": "stream",
     "text": [
      "Sample 2425 correctly predicted to be a 0 with 99.99% probability (true label: 0)\n",
      "Probability of 0: 99.99%\n",
      "Probability of 7: 0.00%\n",
      "Probability of 6: 0.00%\n",
      "Probability of 2: 0.00%\n",
      "Probability of 5: 0.00%\n",
      "Probability of 3: 0.00%\n",
      "Probability of 8: 0.00%\n",
      "Probability of 9: 0.00%\n",
      "Probability of 1: 0.00%\n",
      "Probability of 4: 0.00%\n"
     ]
    },
    {
     "data": {
      "text/plain": [
       "<matplotlib.image.AxesImage at 0x18c5b1d11f0>"
      ]
     },
     "execution_count": 6,
     "metadata": {},
     "output_type": "execute_result"
    },
    {
     "data": {
      "image/png": "[encoded data removed]",
      "text/plain": [
       "<Figure size 432x288 with 1 Axes>"
      ]
     },
     "metadata": {
      "needs_background": "light"
     },
     "output_type": "display_data"
    }
   ],
   "source": [
    "# picks a random sample and displays it along with its predicted and true labels\n",
    "n_sample = np.random.randint(len(test_samples))\n",
    "sample_pred = model.predict(np.array([test_samples[n_sample]]), normalize=True).flatten()\n",
    "sample_label = test_labels[n_sample]\n",
    "pred_label, true_label = np.argmax(sample_pred), np.argmax(sample_label)\n",
    "\n",
    "print(f\"Sample {n_sample} {'correctly' if pred_label == true_label else 'incorrectly'} \\\n",
    "predicted to be a {pred_label} with {(sample_pred[pred_label] * 100):.2f}% probability (true label: {true_label})\")\n",
    "\n",
    "sorted_probs = sorted(enumerate(sample_pred), key=lambda prob: prob[1], reverse=True)\n",
    "for digit, prob in sorted_probs:\n",
    "    print(f\"Probability of {digit}: {(prob * 100):.2f}%\")\n",
    "\n",
    "plt.imshow(test_samples[n_sample].reshape(28, 28), cmap=plt.cm.binary)"
   ]
  }
 ],
 "metadata": {
  "kernelspec": {
   "display_name": "Python 3 (ipykernel)",
   "language": "python",
   "name": "python3"
  },
  "language_info": {
   "codemirror_mode": {
    "name": "ipython",
    "version": 3
   },
   "file_extension": ".py",
   "mimetype": "text/x-python",
   "name": "python",
   "nbconvert_exporter": "python",
   "pygments_lexer": "ipython3",
   "version": "3.9.7"
  }
 },
 "nbformat": 4,
 "nbformat_minor": 5
}
