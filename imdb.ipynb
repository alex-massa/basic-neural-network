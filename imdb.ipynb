{
 "cells": [
  {
   "cell_type": "code",
   "execution_count": 1,
   "id": "deb89433",
   "metadata": {},
   "outputs": [],
   "source": [
    "%run ./basic-neural-network.ipynb\n",
    "%matplotlib inline"
   ]
  },
  {
   "cell_type": "code",
   "execution_count": 2,
   "id": "bfb7e798",
   "metadata": {},
   "outputs": [],
   "source": [
    "import numpy as np\n",
    "import pandas as pd\n",
    "import matplotlib.pyplot as plt\n",
    "from collections import Counter\n",
    "from tqdm import tqdm\n",
    "from sklearn.utils import shuffle\n",
    "from sklearn.model_selection import train_test_split\n",
    "from sklearn.metrics import ConfusionMatrixDisplay\n",
    "from keras.datasets import imdb"
   ]
  },
  {
   "cell_type": "code",
   "execution_count": 3,
   "id": "29dd10f3",
   "metadata": {},
   "outputs": [],
   "source": [
    "# set to None to use the entire dataset\n",
    "N_SAMPLES = 50000\n",
    "# set to None for irreproducible results\n",
    "RANDOM_SEED = 0"
   ]
  },
  {
   "cell_type": "code",
   "execution_count": 4,
   "id": "08483b5c",
   "metadata": {},
   "outputs": [],
   "source": [
    "# the X values are lists consisting of pairs of unique word IDs and their number of occurences for each respective document\n",
    "# this is known as a sparse bag-of-words representation\n",
    "(X_train, y_train), (X_test, y_test) = imdb.load_data()\n",
    "X = [np.array(list(Counter(sample).items())) for sample in np.concatenate((X_train, X_test), axis=0)]\n",
    "y = np.array([np.eye(2)[label] for label in np.concatenate((y_train, y_test), axis=0)])\n",
    "\n",
    "# shuffle the dataset, then truncate it\n",
    "X, y = shuffle(X, y, random_state=RANDOM_SEED)\n",
    "X, y = X[:N_SAMPLES], y[:N_SAMPLES]\n",
    "\n",
    "# obtain dictionary size (will equal the length of the input layer)\n",
    "dict_size = max([pair[0] for sparse in X for pair in sparse]) + 1\n",
    "\n",
    "train_samples, test_samples, train_labels, test_labels = train_test_split(X, y, random_state=RANDOM_SEED)"
   ]
  },
  {
   "cell_type": "code",
   "execution_count": 5,
   "id": "f13d4c17",
   "metadata": {},
   "outputs": [
    {
     "name": "stderr",
     "output_type": "stream",
     "text": [
      "100%|████████████████████████████████████████████████████████████████████████████████| 101/101 [03:33<00:00,  2.11s/it]\n"
     ]
    },
    {
     "data": {
      "text/html": [
       "<style type=\"text/css\">\n",
       "#T_084ff_row0_col0, #T_084ff_row0_col1, #T_084ff_row0_col2, #T_084ff_row0_col3 {\n",
       "  background-color: lightcoral;\n",
       "}\n",
       "#T_084ff_row4_col2, #T_084ff_row5_col3, #T_084ff_row9_col0, #T_084ff_row10_col1 {\n",
       "  background-color: lightgreen;\n",
       "}\n",
       "</style>\n",
       "<table id=\"T_084ff_\">\n",
       "  <thead>\n",
       "    <tr>\n",
       "      <th class=\"blank level0\" >&nbsp;</th>\n",
       "      <th class=\"col_heading level0 col0\" >Train Loss (MSE)</th>\n",
       "      <th class=\"col_heading level0 col1\" >Train Accuracy</th>\n",
       "      <th class=\"col_heading level0 col2\" >Test Loss (MSE)</th>\n",
       "      <th class=\"col_heading level0 col3\" >Test Accuracy</th>\n",
       "    </tr>\n",
       "  </thead>\n",
       "  <tbody>\n",
       "    <tr>\n",
       "      <th id=\"T_084ff_level0_row0\" class=\"row_heading level0 row0\" >1</th>\n",
       "      <td id=\"T_084ff_row0_col0\" class=\"data row0 col0\" >0.462426</td>\n",
       "      <td id=\"T_084ff_row0_col1\" class=\"data row0 col1\" >0.628587</td>\n",
       "      <td id=\"T_084ff_row0_col2\" class=\"data row0 col2\" >0.463285</td>\n",
       "      <td id=\"T_084ff_row0_col3\" class=\"data row0 col3\" >0.625680</td>\n",
       "    </tr>\n",
       "    <tr>\n",
       "      <th id=\"T_084ff_level0_row1\" class=\"row_heading level0 row1\" >11</th>\n",
       "      <td id=\"T_084ff_row1_col0\" class=\"data row1 col0\" >0.148811</td>\n",
       "      <td id=\"T_084ff_row1_col1\" class=\"data row1 col1\" >0.900693</td>\n",
       "      <td id=\"T_084ff_row1_col2\" class=\"data row1 col2\" >0.186091</td>\n",
       "      <td id=\"T_084ff_row1_col3\" class=\"data row1 col3\" >0.879360</td>\n",
       "    </tr>\n",
       "    <tr>\n",
       "      <th id=\"T_084ff_level0_row2\" class=\"row_heading level0 row2\" >21</th>\n",
       "      <td id=\"T_084ff_row2_col0\" class=\"data row2 col0\" >0.112776</td>\n",
       "      <td id=\"T_084ff_row2_col1\" class=\"data row2 col1\" >0.929333</td>\n",
       "      <td id=\"T_084ff_row2_col2\" class=\"data row2 col2\" >0.175312</td>\n",
       "      <td id=\"T_084ff_row2_col3\" class=\"data row2 col3\" >0.881120</td>\n",
       "    </tr>\n",
       "    <tr>\n",
       "      <th id=\"T_084ff_level0_row3\" class=\"row_heading level0 row3\" >31</th>\n",
       "      <td id=\"T_084ff_row3_col0\" class=\"data row3 col0\" >0.179372</td>\n",
       "      <td id=\"T_084ff_row3_col1\" class=\"data row3 col1\" >0.841840</td>\n",
       "      <td id=\"T_084ff_row3_col2\" class=\"data row3 col2\" >0.223921</td>\n",
       "      <td id=\"T_084ff_row3_col3\" class=\"data row3 col3\" >0.801200</td>\n",
       "    </tr>\n",
       "    <tr>\n",
       "      <th id=\"T_084ff_level0_row4\" class=\"row_heading level0 row4\" >41</th>\n",
       "      <td id=\"T_084ff_row4_col0\" class=\"data row4 col0\" >0.073045</td>\n",
       "      <td id=\"T_084ff_row4_col1\" class=\"data row4 col1\" >0.946907</td>\n",
       "      <td id=\"T_084ff_row4_col2\" class=\"data row4 col2\" >0.167536</td>\n",
       "      <td id=\"T_084ff_row4_col3\" class=\"data row4 col3\" >0.887120</td>\n",
       "    </tr>\n",
       "    <tr>\n",
       "      <th id=\"T_084ff_level0_row5\" class=\"row_heading level0 row5\" >51</th>\n",
       "      <td id=\"T_084ff_row5_col0\" class=\"data row5 col0\" >0.071220</td>\n",
       "      <td id=\"T_084ff_row5_col1\" class=\"data row5 col1\" >0.950747</td>\n",
       "      <td id=\"T_084ff_row5_col2\" class=\"data row5 col2\" >0.170881</td>\n",
       "      <td id=\"T_084ff_row5_col3\" class=\"data row5 col3\" >0.887680</td>\n",
       "    </tr>\n",
       "    <tr>\n",
       "      <th id=\"T_084ff_level0_row6\" class=\"row_heading level0 row6\" >61</th>\n",
       "      <td id=\"T_084ff_row6_col0\" class=\"data row6 col0\" >0.074023</td>\n",
       "      <td id=\"T_084ff_row6_col1\" class=\"data row6 col1\" >0.955387</td>\n",
       "      <td id=\"T_084ff_row6_col2\" class=\"data row6 col2\" >0.175047</td>\n",
       "      <td id=\"T_084ff_row6_col3\" class=\"data row6 col3\" >0.885840</td>\n",
       "    </tr>\n",
       "    <tr>\n",
       "      <th id=\"T_084ff_level0_row7\" class=\"row_heading level0 row7\" >71</th>\n",
       "      <td id=\"T_084ff_row7_col0\" class=\"data row7 col0\" >0.053323</td>\n",
       "      <td id=\"T_084ff_row7_col1\" class=\"data row7 col1\" >0.961840</td>\n",
       "      <td id=\"T_084ff_row7_col2\" class=\"data row7 col2\" >0.170432</td>\n",
       "      <td id=\"T_084ff_row7_col3\" class=\"data row7 col3\" >0.885040</td>\n",
       "    </tr>\n",
       "    <tr>\n",
       "      <th id=\"T_084ff_level0_row8\" class=\"row_heading level0 row8\" >81</th>\n",
       "      <td id=\"T_084ff_row8_col0\" class=\"data row8 col0\" >0.044934</td>\n",
       "      <td id=\"T_084ff_row8_col1\" class=\"data row8 col1\" >0.961707</td>\n",
       "      <td id=\"T_084ff_row8_col2\" class=\"data row8 col2\" >0.172514</td>\n",
       "      <td id=\"T_084ff_row8_col3\" class=\"data row8 col3\" >0.886720</td>\n",
       "    </tr>\n",
       "    <tr>\n",
       "      <th id=\"T_084ff_level0_row9\" class=\"row_heading level0 row9\" >91</th>\n",
       "      <td id=\"T_084ff_row9_col0\" class=\"data row9 col0\" >0.041980</td>\n",
       "      <td id=\"T_084ff_row9_col1\" class=\"data row9 col1\" >0.967067</td>\n",
       "      <td id=\"T_084ff_row9_col2\" class=\"data row9 col2\" >0.173702</td>\n",
       "      <td id=\"T_084ff_row9_col3\" class=\"data row9 col3\" >0.883120</td>\n",
       "    </tr>\n",
       "    <tr>\n",
       "      <th id=\"T_084ff_level0_row10\" class=\"row_heading level0 row10\" >101</th>\n",
       "      <td id=\"T_084ff_row10_col0\" class=\"data row10 col0\" >0.042193</td>\n",
       "      <td id=\"T_084ff_row10_col1\" class=\"data row10 col1\" >0.968240</td>\n",
       "      <td id=\"T_084ff_row10_col2\" class=\"data row10 col2\" >0.173269</td>\n",
       "      <td id=\"T_084ff_row10_col3\" class=\"data row10 col3\" >0.883120</td>\n",
       "    </tr>\n",
       "  </tbody>\n",
       "</table>\n"
      ],
      "text/plain": [
       "<pandas.io.formats.style.Styler at 0x1e56ca13040>"
      ]
     },
     "execution_count": 5,
     "metadata": {},
     "output_type": "execute_result"
    }
   ],
   "source": [
    "hidden_layer_size = 2\n",
    "iterations = 100 + 1\n",
    "learning_rate = 1e-3\n",
    "batch_size = 512  # set to 1 for stochastic gradient descent\n",
    "hid_activation = Activation.RELU\n",
    "out_activation = Activation.SIGMOID\n",
    "dropout = 0.5\n",
    "input_as_boolean = True\n",
    "skip_remaining = True\n",
    "random_seed = RANDOM_SEED\n",
    "\n",
    "model = BasicSparseNeuralNetwork(dict_size, hidden_layer_size, epochs=iterations, learning_rate=learning_rate,\n",
    "                                 batch_size=batch_size, skip_remaining=skip_remaining,\n",
    "                                 hid_activation=hid_activation, out_activation=out_activation, \n",
    "                                 dropout=dropout, input_as_boolean=input_as_boolean, \n",
    "                                 is_generator=True, random_seed=random_seed)\n",
    "\n",
    "results = []\n",
    "for _ in tqdm(model.fit(train_samples, train_labels), total=iterations):\n",
    "    train_loss, train_accuracy = model.evaluate(train_samples, train_labels)\n",
    "    test_loss, test_accuracy = model.evaluate(test_samples, test_labels)\n",
    "    results.append({'Train Loss (MSE)': train_loss, 'Train Accuracy': train_accuracy,\n",
    "                    'Test Loss (MSE)': test_loss, 'Test Accuracy': test_accuracy})\n",
    "\n",
    "df = pd.DataFrame(results)\n",
    "df.index += 1\n",
    "df[['Train Loss (MSE)', 'Train Accuracy', 'Test Loss (MSE)', 'Test Accuracy']][::10].style \\\n",
    "        .highlight_min(subset=['Train Accuracy', 'Test Accuracy'], color=\"lightcoral\") \\\n",
    "        .highlight_max(subset=['Train Accuracy', 'Test Accuracy'], color=\"lightgreen\") \\\n",
    "        .highlight_min(subset=['Train Loss (MSE)', 'Test Loss (MSE)'], color=\"lightgreen\") \\\n",
    "        .highlight_max(subset=['Train Loss (MSE)', 'Test Loss (MSE)'], color=\"lightcoral\")"
   ]
  },
  {
   "cell_type": "code",
   "execution_count": 6,
   "id": "e2cb98e7",
   "metadata": {},
   "outputs": [
    {
     "data": {
      "text/plain": [
       "<sklearn.metrics._plot.confusion_matrix.ConfusionMatrixDisplay at 0x1e545f450d0>"
      ]
     },
     "execution_count": 6,
     "metadata": {},
     "output_type": "execute_result"
    },
    {
     "data": {
      "image/png": "[encoded data removed]",
      "text/plain": [
       "<Figure size 432x288 with 2 Axes>"
      ]
     },
     "metadata": {
      "needs_background": "light"
     },
     "output_type": "display_data"
    }
   ],
   "source": [
    "preds = model.predict(test_samples)\n",
    "true_preds, true_labels = [np.argmax(pred) for pred in preds], \\\n",
    "                          [np.argmax(label) for label in test_labels]\n",
    "ConfusionMatrixDisplay.from_predictions(true_preds, true_labels, normalize='true',\n",
    "                                        cmap=plt.cm.Blues, display_labels=('negative', 'positive'))"
   ]
  }
 ],
 "metadata": {
  "kernelspec": {
   "display_name": "Python 3 (ipykernel)",
   "language": "python",
   "name": "python3"
  },
  "language_info": {
   "codemirror_mode": {
    "name": "ipython",
    "version": 3
   },
   "file_extension": ".py",
   "mimetype": "text/x-python",
   "name": "python",
   "nbconvert_exporter": "python",
   "pygments_lexer": "ipython3",
   "version": "3.9.7"
  }
 },
 "nbformat": 4,
 "nbformat_minor": 5
}
